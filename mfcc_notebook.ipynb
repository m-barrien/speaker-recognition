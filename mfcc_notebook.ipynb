{
 "cells": [
  {
   "cell_type": "markdown",
   "metadata": {},
   "source": [
    "# MFCC Notebook"
   ]
  },
  {
   "cell_type": "code",
   "execution_count": 6,
   "metadata": {},
   "outputs": [],
   "source": [
    "import numpy as np\n",
    "import json\n",
    "json_test_path = './data/test.json'"
   ]
  },
  {
   "cell_type": "code",
   "execution_count": 12,
   "metadata": {},
   "outputs": [
    {
     "data": {
      "text/plain": [
       "'\\n{\\n  \"sample_rate\": 32000,\\n  \"n_mfcc_coefficients\": 13,\\n  \"n_mel_filters\": 40,\\n  \"min_freq\": 300,\\n  \"max_freq\": 8000,\\n  \"mfcc_wav_frame_size\": 1024,\\n  \"window_overlap\": 0.5,\\n  \"seconds_per_frame\": 0.032,\\n  \"length_in_seconds\": 12.832,\\n  \"mfcc\": [\\n    [-1339.66, -248.085, -14.3959, -197.458, -15.4143, -154.424, 16.0205, -110.371, -6.28836, -98.6062, -7.08902, -51.944, 17.5438],\\n    [-1188.31, -231.712, -44.0087, -187.237, -17.2241, -167.245, -17.5622, -134.19, -36.5111, -96.2681, -2.68158, -44.4747, -1.01415]\\n    ... ]\\n}\\n'"
      ]
     },
     "execution_count": 12,
     "metadata": {},
     "output_type": "execute_result"
    }
   ],
   "source": [
    "mfcc_obj = json.load(open(json_test_path, 'r'))\n",
    "'''\n",
    "{\n",
    "  \"sample_rate\": 32000,\n",
    "  \"n_mfcc_coefficients\": 13,\n",
    "  \"n_mel_filters\": 40,\n",
    "  \"min_freq\": 300,\n",
    "  \"max_freq\": 8000,\n",
    "  \"mfcc_wav_frame_size\": 1024,\n",
    "  \"window_overlap\": 0.5,\n",
    "  \"seconds_per_frame\": 0.032,\n",
    "  \"length_in_seconds\": 12.832,\n",
    "  \"mfcc\": [\n",
    "    [-1339.66, -248.085, -14.3959, -197.458, -15.4143, -154.424, 16.0205, -110.371, -6.28836, -98.6062, -7.08902, -51.944, 17.5438],\n",
    "    [-1188.31, -231.712, -44.0087, -187.237, -17.2241, -167.245, -17.5622, -134.19, -36.5111, -96.2681, -2.68158, -44.4747, -1.01415]\n",
    "    ... ]\n",
    "}\n",
    "'''"
   ]
  },
  {
   "cell_type": "code",
   "execution_count": 20,
   "metadata": {},
   "outputs": [],
   "source": [
    "class Wav2Mfcc:\n",
    "    def __init__(self, mfcc_obj):\n",
    "        self.sample_rate = mfcc_obj['sample_rate']\n",
    "        self.n_mfcc_coefficients = mfcc_obj['n_mfcc_coefficients']\n",
    "        self.n_mel_filters = mfcc_obj['n_mel_filters']\n",
    "        self.min_freq = mfcc_obj['min_freq']\n",
    "        self.max_freq = mfcc_obj['max_freq']\n",
    "        self.mfcc_wav_frame_size = mfcc_obj['mfcc_wav_frame_size']\n",
    "        self.window_overlap = mfcc_obj['window_overlap']\n",
    "        self.seconds_per_frame = mfcc_obj['seconds_per_frame']\n",
    "        self.length_in_seconds = mfcc_obj['length_in_seconds']\n",
    "        self.mfcc = np.array(mfcc_obj['mfcc'], dtype=np.float32)\n",
    "        self.delta_mfcc= np.zeros_like(self.mfcc)\n",
    "        self.delta_delta_mfcc= np.zeros_like(self.mfcc)\n",
    "        self.calculate_mfcc_deltas()\n",
    "    def get_mfcc(self):\n",
    "        return self.mfcc\n",
    "    def get_sample_rate(self):\n",
    "        return self.sample_rate\n",
    "    def get_n_mfcc_coefficients(self):\n",
    "        return self.n_mfcc_coefficients\n",
    "    def get_n_mel_filters(self):\n",
    "        return self.n_mel_filters\n",
    "    def get_min_freq(self):\n",
    "        return self.min_freq\n",
    "    def get_max_freq(self):\n",
    "        return self.max_freq\n",
    "    def get_mfcc_wav_frame_size(self):\n",
    "        return self.mfcc_wav_frame_size\n",
    "    def get_window_overlap(self):\n",
    "        return self.window_overlap\n",
    "    def get_seconds_per_frame(self):\n",
    "        return self.seconds_per_frame\n",
    "    def get_length_in_seconds(self):\n",
    "        return self.length_in_seconds\n",
    "    def get_mfcc_shape(self):\n",
    "        return self.mfcc.shape\n",
    "    def get_delta_mfcc(self):\n",
    "        return self.delta_mfcc\n",
    "    def get_delta_delta_mfcc(self):\n",
    "        return self.delta_delta_mfcc\n",
    "\n",
    "    def calculate_mfcc_deltas(self):\n",
    "        \"\"\"\n",
    "        Calculate the delta of the MFCC features.\n",
    "        \"\"\"\n",
    "        self.delta_mfcc = np.gradient(self.mfcc, axis=0)\n",
    "        self.delta_delta_mfcc = np.gradient(self.delta_mfcc, axis=0)"
   ]
  },
  {
   "cell_type": "code",
   "execution_count": 22,
   "metadata": {},
   "outputs": [],
   "source": [
    "wav2mfcc_test = Wav2Mfcc(mfcc_obj)\n"
   ]
  },
  {
   "cell_type": "code",
   "execution_count": 23,
   "metadata": {},
   "outputs": [
    {
     "data": {
      "text/plain": [
       "array([[-180.65497   ,  -34.021004  ,   24.8172    , ...,   -7.71548   ,\n",
       "         -10.561399  ,    9.531124  ],\n",
       "       [-133.51248   ,  -18.280998  ,   21.147202  , ...,   -0.91245484,\n",
       "          -6.532049  ,    8.764886  ],\n",
       "       [  51.54251   ,   19.554756  ,    4.5402503 , ...,    3.239     ,\n",
       "           5.16415   ,    4.710229  ],\n",
       "       ...,\n",
       "       [  16.462494  ,  -13.609009  ,    7.54375   , ...,   -1.0045835 ,\n",
       "          13.402576  ,    2.706375  ],\n",
       "       [  47.13498   ,   15.073753  ,   -0.32767677, ...,   -1.5208699 ,\n",
       "          -9.915375  ,    0.218485  ],\n",
       "       [  66.90497   ,   31.847015  ,   -8.690899  , ...,   -0.4943788 ,\n",
       "         -23.72265   ,   -4.876095  ]], shape=(775, 13), dtype=float32)"
      ]
     },
     "execution_count": 23,
     "metadata": {},
     "output_type": "execute_result"
    }
   ],
   "source": [
    "wav2mfcc_test.get_delta_delta_mfcc()"
   ]
  }
 ],
 "metadata": {
  "kernelspec": {
   "display_name": "myenv",
   "language": "python",
   "name": "python3"
  },
  "language_info": {
   "codemirror_mode": {
    "name": "ipython",
    "version": 3
   },
   "file_extension": ".py",
   "mimetype": "text/x-python",
   "name": "python",
   "nbconvert_exporter": "python",
   "pygments_lexer": "ipython3",
   "version": "3.13.2"
  }
 },
 "nbformat": 4,
 "nbformat_minor": 2
}
