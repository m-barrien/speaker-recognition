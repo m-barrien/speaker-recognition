{
 "cells": [
  {
   "cell_type": "markdown",
   "metadata": {},
   "source": [
    "# MFCC Notebook"
   ]
  },
  {
   "cell_type": "code",
   "execution_count": 6,
   "metadata": {},
   "outputs": [],
   "source": [
    "import numpy as np\n",
    "import json\n",
    "json_test_path = './data/test.json'"
   ]
  },
  {
   "cell_type": "code",
   "execution_count": 12,
   "metadata": {},
   "outputs": [
    {
     "data": {
      "text/plain": [
       "'\\n{\\n  \"sample_rate\": 32000,\\n  \"n_mfcc_coefficients\": 13,\\n  \"n_mel_filters\": 40,\\n  \"min_freq\": 300,\\n  \"max_freq\": 8000,\\n  \"mfcc_wav_frame_size\": 1024,\\n  \"window_overlap\": 0.5,\\n  \"seconds_per_frame\": 0.032,\\n  \"length_in_seconds\": 12.832,\\n  \"mfcc\": [\\n    [-1339.66, -248.085, -14.3959, -197.458, -15.4143, -154.424, 16.0205, -110.371, -6.28836, -98.6062, -7.08902, -51.944, 17.5438],\\n    [-1188.31, -231.712, -44.0087, -187.237, -17.2241, -167.245, -17.5622, -134.19, -36.5111, -96.2681, -2.68158, -44.4747, -1.01415]\\n    ... ]\\n}\\n'"
      ]
     },
     "execution_count": 12,
     "metadata": {},
     "output_type": "execute_result"
    }
   ],
   "source": [
    "mfcc_obj = json.load(open(json_test_path, 'r'))\n",
    "'''\n",
    "{\n",
    "  \"sample_rate\": 32000,\n",
    "  \"n_mfcc_coefficients\": 13,\n",
    "  \"n_mel_filters\": 40,\n",
    "  \"min_freq\": 300,\n",
    "  \"max_freq\": 8000,\n",
    "  \"mfcc_wav_frame_size\": 1024,\n",
    "  \"window_overlap\": 0.5,\n",
    "  \"seconds_per_frame\": 0.032,\n",
    "  \"length_in_seconds\": 12.832,\n",
    "  \"mfcc\": [\n",
    "    [-1339.66, -248.085, -14.3959, -197.458, -15.4143, -154.424, 16.0205, -110.371, -6.28836, -98.6062, -7.08902, -51.944, 17.5438],\n",
    "    [-1188.31, -231.712, -44.0087, -187.237, -17.2241, -167.245, -17.5622, -134.19, -36.5111, -96.2681, -2.68158, -44.4747, -1.01415]\n",
    "    ... ]\n",
    "}\n",
    "'''"
   ]
  },
  {
   "cell_type": "code",
   "execution_count": null,
   "metadata": {},
   "outputs": [],
   "source": [
    "class Wav2Mfcc:\n",
    "    def __init__(self, mfcc_obj):\n",
    "        self.sample_rate = mfcc_obj['sample_rate']\n",
    "        self.n_mfcc_coefficients = mfcc_obj['n_mfcc_coefficients']\n",
    "        self.n_mel_filters = mfcc_obj['n_mel_filters']\n",
    "        self.min_freq = mfcc_obj['min_freq']\n",
    "        self.max_freq = mfcc_obj['max_freq']\n",
    "        self.mfcc_wav_frame_size = mfcc_obj['mfcc_wav_frame_size']\n",
    "        self.window_overlap = mfcc_obj['window_overlap']\n",
    "        self.seconds_per_frame = mfcc_obj['seconds_per_frame']\n",
    "        self.length_in_seconds = mfcc_obj['length_in_seconds']\n",
    "        self.mfcc = np.array(mfcc_obj['mfcc'], dtype=np.float32)\n",
    "        if 'mfcc_delta' in mfcc_obj and mfcc_obj['mfcc_delta'] is not None:\n",
    "            self.delta_mfcc = np.array(mfcc_obj['mfcc_delta'], dtype=np.float32)\n",
    "        else:\n",
    "            self.delta_mfcc = np.zeros_like(self.mfcc)\n",
    "        if 'mfcc_delta_delta' in mfcc_obj and mfcc_obj['mfcc_delta_delta'] is not None:\n",
    "            self.delta_delta_mfcc = np.array(mfcc_obj['mfcc_delta_delta'], dtype=np.float32)\n",
    "        else:\n",
    "            self.delta_delta_mfcc = np.zeros_like(self.mfcc)\n",
    "            self.calculate_mfcc_deltas()\n",
    "        \n",
    "    def get_mfcc(self):\n",
    "        return self.mfcc\n",
    "    def get_sample_rate(self):\n",
    "        return self.sample_rate\n",
    "    def get_n_mfcc_coefficients(self):\n",
    "        return self.n_mfcc_coefficients\n",
    "    def get_n_mel_filters(self):\n",
    "        return self.n_mel_filters\n",
    "    def get_min_freq(self):\n",
    "        return self.min_freq\n",
    "    def get_max_freq(self):\n",
    "        return self.max_freq\n",
    "    def get_mfcc_wav_frame_size(self):\n",
    "        return self.mfcc_wav_frame_size\n",
    "    def get_window_overlap(self):\n",
    "        return self.window_overlap\n",
    "    def get_seconds_per_frame(self):\n",
    "        return self.seconds_per_frame\n",
    "    def get_length_in_seconds(self):\n",
    "        return self.length_in_seconds\n",
    "    def get_mfcc_shape(self):\n",
    "        return self.mfcc.shape\n",
    "    def get_delta_mfcc(self):\n",
    "        return self.delta_mfcc\n",
    "    def get_delta_delta_mfcc(self):\n",
    "        return self.delta_delta_mfcc\n",
    "\n",
    "    def calculate_mfcc_deltas(self):\n",
    "        \"\"\"\n",
    "        Calculate the delta of the MFCC features.\n",
    "        \"\"\"\n",
    "        delta_time = self.seconds_per_frame * (1 - self.window_overlap)\n",
    "        self.delta_mfcc = np.gradient(self.mfcc, delta_time , axis=0)\n",
    "        self.delta_delta_mfcc = np.gradient(self.delta_mfcc, delta_time, axis=0)\n",
    "\n",
    "    def batch_mfcc(self, seconds_per_batch=1.0, overlap=0.5):\n",
    "        if self.delta_mfcc is None or self.delta_delta_mfcc is None:\n",
    "            raise ValueError(\"Delta MFCC not calculated. Please calculate delta MFCC before batching.\")\n",
    "        \"\"\"\n",
    "        Split the MFCC features into batches.\n",
    "        \"\"\"\n",
    "        ### Join all mfcc features with delta and delta_delta\n",
    "        mfcc_combined = np.concatenate((self.mfcc, self.delta_mfcc, self.delta_delta_mfcc), axis=1)\n",
    "        print(\"mfcc_combined shape:\", mfcc_combined.shape)\n",
    "        print(\"mfcc shape:\", self.mfcc.shape)\n",
    "        batch_size = int(seconds_per_batch / self.seconds_per_frame)\n",
    "        if batch_size > len(self.mfcc):\n",
    "            raise ValueError(\"Batch size is larger than the MFCC length.\")\n",
    "        overlap_size = int(batch_size * overlap)\n",
    "        mfcc_batches = []\n",
    "        for i in range(0, len(self.mfcc) - batch_size, batch_size - overlap_size):\n",
    "            mfcc_batches.append(mfcc_combined[i:i + batch_size])\n",
    "        return np.array(mfcc_batches)\n",
    "\n",
    "    def dump_to_json(self, filename):\n",
    "        \"\"\"\n",
    "        Save the MFCC object to a JSON file.\n",
    "        \"\"\"\n",
    "        mfcc_obj = {\n",
    "            'sample_rate': self.sample_rate,\n",
    "            'n_mfcc_coefficients': self.n_mfcc_coefficients,\n",
    "            'n_mel_filters': self.n_mel_filters,\n",
    "            'min_freq': self.min_freq,\n",
    "            'max_freq': self.max_freq,\n",
    "            'mfcc_wav_frame_size': self.mfcc_wav_frame_size,\n",
    "            'window_overlap': self.window_overlap,\n",
    "            'seconds_per_frame': self.seconds_per_frame,\n",
    "            'length_in_seconds': self.length_in_seconds,\n",
    "            'mfcc': self.mfcc.tolist(),\n",
    "            'mfcc_delta': self.delta_mfcc.tolist(),\n",
    "            'mfcc_delta_delta': self.delta_delta_mfcc.tolist()\n",
    "        }\n",
    "        with open(filename, 'w') as f:\n",
    "            json.dump(mfcc_obj, f, indent=4)"
   ]
  },
  {
   "cell_type": "code",
   "execution_count": 49,
   "metadata": {},
   "outputs": [],
   "source": [
    "wav2mfcc_test = Wav2Mfcc(mfcc_obj)\n"
   ]
  },
  {
   "cell_type": "code",
   "execution_count": 50,
   "metadata": {},
   "outputs": [
    {
     "name": "stdout",
     "output_type": "stream",
     "text": [
      "mfcc_combined shape: (775, 39)\n",
      "mfcc shape: (775, 13)\n"
     ]
    },
    {
     "data": {
      "text/plain": [
       "(47, 31, 39)"
      ]
     },
     "execution_count": 50,
     "metadata": {},
     "output_type": "execute_result"
    }
   ],
   "source": [
    "wav2mfcc_test.batch_mfcc().shape"
   ]
  },
  {
   "cell_type": "markdown",
   "metadata": {},
   "source": [
    "### Batch load all json mfcc objects"
   ]
  },
  {
   "cell_type": "code",
   "execution_count": null,
   "metadata": {},
   "outputs": [],
   "source": []
  }
 ],
 "metadata": {
  "kernelspec": {
   "display_name": "myenv",
   "language": "python",
   "name": "python3"
  },
  "language_info": {
   "codemirror_mode": {
    "name": "ipython",
    "version": 3
   },
   "file_extension": ".py",
   "mimetype": "text/x-python",
   "name": "python",
   "nbconvert_exporter": "python",
   "pygments_lexer": "ipython3",
   "version": "3.13.2"
  }
 },
 "nbformat": 4,
 "nbformat_minor": 2
}
